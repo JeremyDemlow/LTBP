{
 "cells": [
  {
   "cell_type": "code",
   "execution_count": null,
   "metadata": {},
   "outputs": [],
   "source": [
    "#| hide\n",
    "from data_system_utilities.file_parsers import yaml\n",
    "from LTBP.modeling.utils import return_list_of_vars\n",
    "from IPython.display import Markdown as md\n",
    "\n",
    "import markdown\n",
    "\n",
    "import logging, sys\n",
    "# logging.disable(sys.maxsize)"
   ]
  },
  {
   "cell_type": "code",
   "execution_count": null,
   "metadata": {},
   "outputs": [
    {
     "name": "stderr",
     "output_type": "stream",
     "text": [
      "INFO:data_system_utilities.snowflake.utils:connection to snowflake established...\n",
      "INFO:data_system_utilities.snowflake.query:executing query\n",
      "INFO:data_system_utilities.snowflake.query:data loaded from snowflake\n",
      "INFO:data_system_utilities.snowflake.query:connection to snowflake has been turned off\n",
      "INFO:data_system_utilities.snowflake.utils:connection to snowflake established...\n",
      "INFO:data_system_utilities.snowflake.query:executing query\n",
      "INFO:data_system_utilities.snowflake.query:data loaded from snowflake\n",
      "INFO:data_system_utilities.snowflake.query:connection to snowflake has been turned off\n",
      "INFO:data_system_utilities.snowflake.utils:connection to snowflake established...\n",
      "INFO:data_system_utilities.snowflake.query:executing query\n",
      "INFO:data_system_utilities.snowflake.query:data loaded from snowflake\n",
      "INFO:data_system_utilities.snowflake.query:connection to snowflake has been turned off\n",
      "INFO:data_system_utilities.snowflake.utils:connection to snowflake established...\n",
      "INFO:data_system_utilities.snowflake.query:executing query\n",
      "INFO:data_system_utilities.snowflake.query:data loaded from snowflake\n",
      "INFO:data_system_utilities.snowflake.query:connection to snowflake has been turned off\n",
      "INFO:data_system_utilities.snowflake.utils:connection to snowflake established...\n",
      "INFO:data_system_utilities.snowflake.query:executing query\n",
      "INFO:data_system_utilities.snowflake.query:data loaded from snowflake\n",
      "INFO:data_system_utilities.snowflake.query:connection to snowflake has been turned off\n"
     ]
    }
   ],
   "source": [
    "#| hide\n",
    "\n",
    "# This is the code that is needed to power this document for LTBP will need custom changes for your project most likely\n",
    "from LTBP.data.utils import snowflake_query\n",
    "\n",
    "experiment_name='BASELINE'\n",
    "season_year = '2022/23'\n",
    "\n",
    "sf = snowflake_query()\n",
    "\n",
    "total_preds = sf.run_sql_str(\"SELECT COUNT(1) AS TOTAL_POP FROM MachineLearningOutPuts.LTBP.LTBP_PREDICTIONS\")\n",
    "\n",
    "example_output = sf.run_sql_str(\"SELECT TOP 10 * FROM MachineLearningOutPuts.LTBP.LTBP_PREDICTIONS\")\n",
    "\n",
    "NTILE_breakdown = sf.run_sql_str(\"\"\"\n",
    "SELECT \n",
    "LikelihoodToBuyPassLabel,\n",
    "COUNT(1) as Total\n",
    "FROM (\n",
    "SELECT ECID\n",
    ", PROBABILITY\n",
    ", ntile(5) over (ORDER BY PROBABILITY) as ntile_5\n",
    ", CASE WHEN ntile_5 = 5 THEN 'High'\n",
    "  WHEN ntile_5 = 4 THEN 'Med-High'\n",
    "  WHEN ntile_5 = 3 THEN 'Medium'\n",
    "  WHEN ntile_5 = 2 THEN 'Low-Med'\n",
    "  WHEN ntile_5 = 1 THEN 'Low'\n",
    "  END AS LikelihoodToBuyPassLabel\n",
    "FROM MACHINELEARNINGOUTPUTS.ltbp.ltbp_PREDICTIONS ltbp\n",
    "ORDER BY PROBABILITY DESC\n",
    ")\n",
    "GROUP BY LikelihoodToBuyPassLabel\n",
    "\"\"\")\n",
    "\n",
    "example_of_ntile = sf.run_sql_str(\"\"\"SELECT ECID\n",
    ", PROBABILITY\n",
    ", ntile(5) over (ORDER BY PROBABILITY) as ntile_5\n",
    ", CASE WHEN ntile_5 = 5 THEN 'High'\n",
    "  WHEN ntile_5 = 4 THEN 'Med-High'\n",
    "  WHEN ntile_5 = 3 THEN 'Medium'\n",
    "  WHEN ntile_5 = 2 THEN 'Low-Med'\n",
    "  WHEN ntile_5 = 1 THEN 'Low'\n",
    "  END AS LikelihoodToBuyPassLabel\n",
    "FROM MACHINELEARNINGOUTPUTS.ltbp.ltbp_PREDICTIONS ltbp\n",
    "ORDER BY PROBABILITY DESC\n",
    "LIMIT 10\n",
    "\"\"\")\n",
    "\n",
    "current_season_results = sf.run_sql_str(f\"\"\"\n",
    "SELECT\n",
    "LikelihoodToBuyPassLabel\n",
    ", sum(1) Records\n",
    ", sum(case when ps.ECID is not null\n",
    "    then 1 else 0 end) FY22_PassHolder\n",
    ",  Records- FY22_PassHolder as NoPassPurchase\n",
    ", sum(case when ps.ECID is not null\n",
    "    then 1 else 0 end)\n",
    "    / sum(1.0) FY22ConversionRate\n",
    "FROM (\n",
    "SELECT ECID, PROBABILITY\n",
    ", ntile(5) over (ORDER BY PROBABILITY) as ntile_5\n",
    ", CASE WHEN ntile_5 = 5 THEN 'High'\n",
    "WHEN ntile_5 = 4 THEN 'Med-High'\n",
    "WHEN ntile_5 = 3 THEN 'Medium'\n",
    "WHEN ntile_5 = 2 THEN 'Low-Med'\n",
    "WHEN ntile_5 = 1 THEN 'Low'\n",
    "END AS LikelihoodToBuyPassLabel\n",
    " FROM MACHINELEARNINGOUTPUTS.LTBP.ltbp_PREDICTIONS ltbp\n",
    "  ) base\n",
    "LEFT JOIN BIDE_EDWDB_CUSTOMERMART_PROD.dbo.CustomerPassSummary ps\n",
    "    on ps.ECID = base.ECID\n",
    "    and ps.SalesSeason = '{season_year}'\n",
    "    and ps.Quantity > 0\n",
    "GROUP BY LikelihoodToBuyPassLabel\n",
    "ORDER BY max(base.PROBABILITY) desc;\n",
    "\"\"\")\n",
    "\n",
    "models_dict=yaml.yaml_reader('./LTBP/files/yaml_files/models.yaml')"
   ]
  },
  {
   "cell_type": "markdown",
   "metadata": {},
   "source": [
    "# Project Overview\n",
    "\n",
    "> Likelihood To Buy A Pass (LTBP)\n",
    "\n",
    "See example sections for how to be able to get your project to a state that will mirror this one"
   ]
  },
  {
   "cell_type": "markdown",
   "metadata": {},
   "source": [
    "## Install"
   ]
  },
  {
   "cell_type": "markdown",
   "metadata": {},
   "source": [
    "```sh\n",
    "pip install LTBP\n",
    "```\n",
    "\n",
    "> coming soon private github pypi token to allow for easy install"
   ]
  },
  {
   "cell_type": "markdown",
   "metadata": {},
   "source": [
    "## LTBP Use Cases\n",
    "\n",
    "In 2023/24 this project plans on being the replacement to LTR, which historically was used to help subpress media dollar spend for guest segments.\n",
    "\n",
    "The details of this use case will be filled out as the 22/23 winter season rolls through as we gear up for another year of pass sales."
   ]
  },
  {
   "cell_type": "markdown",
   "metadata": {},
   "source": [
    "## LTBP Result Overview"
   ]
  },
  {
   "cell_type": "markdown",
   "metadata": {},
   "source": [
    "Current Fiscal Season Results:\n",
    "\n",
    "Development Results: \n",
    "\n",
    "- MACHINLEARNINGOUTPUTS.DEV.LTBP_PREDICTIONS\n",
    "\n",
    "> Note: Development results will be something that we move around as more scale begins to happen, but that isn't solved as of now.\n",
    "\n",
    "Production Snowflake Table:\n",
    "\n",
    "- MACHINLEARNINGOUTPUTS.LTBP.LTBP_PREDICTIONS\n",
    "\n",
    "Total Predictions:\n",
    "\n",
    "<!-- {{total_preds}} -->"
   ]
  },
  {
   "cell_type": "code",
   "execution_count": null,
   "metadata": {},
   "outputs": [
    {
     "data": {
      "text/html": [
       "<div>\n",
       "<style scoped>\n",
       "    .dataframe tbody tr th:only-of-type {\n",
       "        vertical-align: middle;\n",
       "    }\n",
       "\n",
       "    .dataframe tbody tr th {\n",
       "        vertical-align: top;\n",
       "    }\n",
       "\n",
       "    .dataframe thead th {\n",
       "        text-align: right;\n",
       "    }\n",
       "</style>\n",
       "<table border=\"1\" class=\"dataframe\">\n",
       "  <thead>\n",
       "    <tr style=\"text-align: right;\">\n",
       "      <th></th>\n",
       "      <th>TOTAL_POP</th>\n",
       "    </tr>\n",
       "  </thead>\n",
       "  <tbody>\n",
       "    <tr>\n",
       "      <th>0</th>\n",
       "      <td>14759852</td>\n",
       "    </tr>\n",
       "  </tbody>\n",
       "</table>\n",
       "</div>"
      ],
      "text/plain": [
       "   TOTAL_POP\n",
       "0   14759852"
      ]
     },
     "execution_count": null,
     "metadata": {},
     "output_type": "execute_result"
    }
   ],
   "source": [
    "total_preds"
   ]
  },
  {
   "cell_type": "markdown",
   "metadata": {},
   "source": [
    "Example of Prediction Table Output:\n",
    "\n",
    "<!-- {{example_output}} -->"
   ]
  },
  {
   "cell_type": "code",
   "execution_count": null,
   "metadata": {},
   "outputs": [
    {
     "data": {
      "text/html": [
       "<div>\n",
       "<style scoped>\n",
       "    .dataframe tbody tr th:only-of-type {\n",
       "        vertical-align: middle;\n",
       "    }\n",
       "\n",
       "    .dataframe tbody tr th {\n",
       "        vertical-align: top;\n",
       "    }\n",
       "\n",
       "    .dataframe thead th {\n",
       "        text-align: right;\n",
       "    }\n",
       "</style>\n",
       "<table border=\"1\" class=\"dataframe\">\n",
       "  <thead>\n",
       "    <tr style=\"text-align: right;\">\n",
       "      <th></th>\n",
       "      <th>ECID</th>\n",
       "      <th>PROBABILITY</th>\n",
       "    </tr>\n",
       "  </thead>\n",
       "  <tbody>\n",
       "    <tr>\n",
       "      <th>0</th>\n",
       "      <td>61068721</td>\n",
       "      <td>0.038751</td>\n",
       "    </tr>\n",
       "    <tr>\n",
       "      <th>1</th>\n",
       "      <td>130053505</td>\n",
       "      <td>0.492399</td>\n",
       "    </tr>\n",
       "    <tr>\n",
       "      <th>2</th>\n",
       "      <td>49940527</td>\n",
       "      <td>0.051959</td>\n",
       "    </tr>\n",
       "    <tr>\n",
       "      <th>3</th>\n",
       "      <td>74112965</td>\n",
       "      <td>0.034402</td>\n",
       "    </tr>\n",
       "    <tr>\n",
       "      <th>4</th>\n",
       "      <td>32759861</td>\n",
       "      <td>0.004805</td>\n",
       "    </tr>\n",
       "    <tr>\n",
       "      <th>5</th>\n",
       "      <td>57941408</td>\n",
       "      <td>0.002742</td>\n",
       "    </tr>\n",
       "    <tr>\n",
       "      <th>6</th>\n",
       "      <td>13674145</td>\n",
       "      <td>0.065647</td>\n",
       "    </tr>\n",
       "    <tr>\n",
       "      <th>7</th>\n",
       "      <td>60909761</td>\n",
       "      <td>0.009027</td>\n",
       "    </tr>\n",
       "    <tr>\n",
       "      <th>8</th>\n",
       "      <td>97172783</td>\n",
       "      <td>0.002126</td>\n",
       "    </tr>\n",
       "    <tr>\n",
       "      <th>9</th>\n",
       "      <td>131977740</td>\n",
       "      <td>0.109056</td>\n",
       "    </tr>\n",
       "  </tbody>\n",
       "</table>\n",
       "</div>"
      ],
      "text/plain": [
       "        ECID  PROBABILITY\n",
       "0   61068721     0.038751\n",
       "1  130053505     0.492399\n",
       "2   49940527     0.051959\n",
       "3   74112965     0.034402\n",
       "4   32759861     0.004805\n",
       "5   57941408     0.002742\n",
       "6   13674145     0.065647\n",
       "7   60909761     0.009027\n",
       "8   97172783     0.002126\n",
       "9  131977740     0.109056"
      ]
     },
     "execution_count": null,
     "metadata": {},
     "output_type": "execute_result"
    }
   ],
   "source": [
    "example_output"
   ]
  },
  {
   "cell_type": "markdown",
   "metadata": {},
   "source": [
    "Schema:\n",
    "\n",
    "|Variable Name| Description|\n",
    "|:---|:---|\n",
    "|ECID | Customer Key|\n",
    "|PROBABILITY| The estimated probability that this ECID will buy a Pass in this Fiscal Year|\n",
    "\n",
    "Label Logic:\n",
    "\n",
    "LTBP is composed of five bins low, low-med, medium, med-high high. In the past, there was an attempt to optimize the return rate to be heavy in low, but for simplicity and scalability of this project, DSDE decided to use NTILE, which creates equal buckets for the five labeled groups.\n",
    "\n",
    "<!-- {{NTILE_breakdown}} -->"
   ]
  },
  {
   "cell_type": "code",
   "execution_count": null,
   "metadata": {},
   "outputs": [
    {
     "data": {
      "text/html": [
       "<div>\n",
       "<style scoped>\n",
       "    .dataframe tbody tr th:only-of-type {\n",
       "        vertical-align: middle;\n",
       "    }\n",
       "\n",
       "    .dataframe tbody tr th {\n",
       "        vertical-align: top;\n",
       "    }\n",
       "\n",
       "    .dataframe thead th {\n",
       "        text-align: right;\n",
       "    }\n",
       "</style>\n",
       "<table border=\"1\" class=\"dataframe\">\n",
       "  <thead>\n",
       "    <tr style=\"text-align: right;\">\n",
       "      <th></th>\n",
       "      <th>LIKELIHOODTOBUYPASSLABEL</th>\n",
       "      <th>TOTAL</th>\n",
       "    </tr>\n",
       "  </thead>\n",
       "  <tbody>\n",
       "    <tr>\n",
       "      <th>0</th>\n",
       "      <td>High</td>\n",
       "      <td>2951970</td>\n",
       "    </tr>\n",
       "    <tr>\n",
       "      <th>1</th>\n",
       "      <td>Medium</td>\n",
       "      <td>2951970</td>\n",
       "    </tr>\n",
       "    <tr>\n",
       "      <th>2</th>\n",
       "      <td>Med-High</td>\n",
       "      <td>2951970</td>\n",
       "    </tr>\n",
       "    <tr>\n",
       "      <th>3</th>\n",
       "      <td>Low-Med</td>\n",
       "      <td>2951971</td>\n",
       "    </tr>\n",
       "    <tr>\n",
       "      <th>4</th>\n",
       "      <td>Low</td>\n",
       "      <td>2951971</td>\n",
       "    </tr>\n",
       "  </tbody>\n",
       "</table>\n",
       "</div>"
      ],
      "text/plain": [
       "  LIKELIHOODTOBUYPASSLABEL    TOTAL\n",
       "0                     High  2951970\n",
       "1                   Medium  2951970\n",
       "2                 Med-High  2951970\n",
       "3                  Low-Med  2951971\n",
       "4                      Low  2951971"
      ]
     },
     "execution_count": null,
     "metadata": {},
     "output_type": "execute_result"
    }
   ],
   "source": [
    "NTILE_breakdown"
   ]
  },
  {
   "cell_type": "markdown",
   "metadata": {},
   "source": [
    "Example of what the output looks like with ntile(s) assoicated with the raw probability output\n",
    "<!-- {{example_of_ntile}} -->"
   ]
  },
  {
   "cell_type": "code",
   "execution_count": null,
   "metadata": {},
   "outputs": [
    {
     "data": {
      "text/html": [
       "<div>\n",
       "<style scoped>\n",
       "    .dataframe tbody tr th:only-of-type {\n",
       "        vertical-align: middle;\n",
       "    }\n",
       "\n",
       "    .dataframe tbody tr th {\n",
       "        vertical-align: top;\n",
       "    }\n",
       "\n",
       "    .dataframe thead th {\n",
       "        text-align: right;\n",
       "    }\n",
       "</style>\n",
       "<table border=\"1\" class=\"dataframe\">\n",
       "  <thead>\n",
       "    <tr style=\"text-align: right;\">\n",
       "      <th></th>\n",
       "      <th>ECID</th>\n",
       "      <th>PROBABILITY</th>\n",
       "      <th>NTILE_5</th>\n",
       "      <th>LIKELIHOODTOBUYPASSLABEL</th>\n",
       "    </tr>\n",
       "  </thead>\n",
       "  <tbody>\n",
       "    <tr>\n",
       "      <th>0</th>\n",
       "      <td>131035762</td>\n",
       "      <td>0.999566</td>\n",
       "      <td>5</td>\n",
       "      <td>High</td>\n",
       "    </tr>\n",
       "    <tr>\n",
       "      <th>1</th>\n",
       "      <td>112628819</td>\n",
       "      <td>0.999552</td>\n",
       "      <td>5</td>\n",
       "      <td>High</td>\n",
       "    </tr>\n",
       "    <tr>\n",
       "      <th>2</th>\n",
       "      <td>138473097</td>\n",
       "      <td>0.999544</td>\n",
       "      <td>5</td>\n",
       "      <td>High</td>\n",
       "    </tr>\n",
       "    <tr>\n",
       "      <th>3</th>\n",
       "      <td>102515974</td>\n",
       "      <td>0.999541</td>\n",
       "      <td>5</td>\n",
       "      <td>High</td>\n",
       "    </tr>\n",
       "    <tr>\n",
       "      <th>4</th>\n",
       "      <td>136960602</td>\n",
       "      <td>0.999527</td>\n",
       "      <td>5</td>\n",
       "      <td>High</td>\n",
       "    </tr>\n",
       "    <tr>\n",
       "      <th>5</th>\n",
       "      <td>131977201</td>\n",
       "      <td>0.999525</td>\n",
       "      <td>5</td>\n",
       "      <td>High</td>\n",
       "    </tr>\n",
       "    <tr>\n",
       "      <th>6</th>\n",
       "      <td>137118754</td>\n",
       "      <td>0.999525</td>\n",
       "      <td>5</td>\n",
       "      <td>High</td>\n",
       "    </tr>\n",
       "    <tr>\n",
       "      <th>7</th>\n",
       "      <td>137071085</td>\n",
       "      <td>0.999522</td>\n",
       "      <td>5</td>\n",
       "      <td>High</td>\n",
       "    </tr>\n",
       "    <tr>\n",
       "      <th>8</th>\n",
       "      <td>131795763</td>\n",
       "      <td>0.999518</td>\n",
       "      <td>5</td>\n",
       "      <td>High</td>\n",
       "    </tr>\n",
       "    <tr>\n",
       "      <th>9</th>\n",
       "      <td>58857511</td>\n",
       "      <td>0.999517</td>\n",
       "      <td>5</td>\n",
       "      <td>High</td>\n",
       "    </tr>\n",
       "  </tbody>\n",
       "</table>\n",
       "</div>"
      ],
      "text/plain": [
       "        ECID  PROBABILITY  NTILE_5 LIKELIHOODTOBUYPASSLABEL\n",
       "0  131035762     0.999566        5                     High\n",
       "1  112628819     0.999552        5                     High\n",
       "2  138473097     0.999544        5                     High\n",
       "3  102515974     0.999541        5                     High\n",
       "4  136960602     0.999527        5                     High\n",
       "5  131977201     0.999525        5                     High\n",
       "6  137118754     0.999525        5                     High\n",
       "7  137071085     0.999522        5                     High\n",
       "8  131795763     0.999518        5                     High\n",
       "9   58857511     0.999517        5                     High"
      ]
     },
     "execution_count": null,
     "metadata": {},
     "output_type": "execute_result"
    }
   ],
   "source": [
    "example_of_ntile"
   ]
  },
  {
   "cell_type": "markdown",
   "metadata": {},
   "source": [
    "**Current Season 2022/23 Results**\n",
    "<!-- **Current Season {{season_year}} Results** -->\n",
    "<!-- {{current_season_results}} -->"
   ]
  },
  {
   "cell_type": "code",
   "execution_count": null,
   "metadata": {},
   "outputs": [
    {
     "data": {
      "text/html": [
       "<div>\n",
       "<style scoped>\n",
       "    .dataframe tbody tr th:only-of-type {\n",
       "        vertical-align: middle;\n",
       "    }\n",
       "\n",
       "    .dataframe tbody tr th {\n",
       "        vertical-align: top;\n",
       "    }\n",
       "\n",
       "    .dataframe thead th {\n",
       "        text-align: right;\n",
       "    }\n",
       "</style>\n",
       "<table border=\"1\" class=\"dataframe\">\n",
       "  <thead>\n",
       "    <tr style=\"text-align: right;\">\n",
       "      <th></th>\n",
       "      <th>LIKELIHOODTOBUYPASSLABEL</th>\n",
       "      <th>RECORDS</th>\n",
       "      <th>FY22_PASSHOLDER</th>\n",
       "      <th>NOPASSPURCHASE</th>\n",
       "      <th>FY22CONVERSIONRATE</th>\n",
       "    </tr>\n",
       "  </thead>\n",
       "  <tbody>\n",
       "    <tr>\n",
       "      <th>0</th>\n",
       "      <td>High</td>\n",
       "      <td>2951970</td>\n",
       "      <td>1108113</td>\n",
       "      <td>1843857</td>\n",
       "      <td>0.375381</td>\n",
       "    </tr>\n",
       "    <tr>\n",
       "      <th>1</th>\n",
       "      <td>Med-High</td>\n",
       "      <td>2951970</td>\n",
       "      <td>69263</td>\n",
       "      <td>2882707</td>\n",
       "      <td>0.023463</td>\n",
       "    </tr>\n",
       "    <tr>\n",
       "      <th>2</th>\n",
       "      <td>Medium</td>\n",
       "      <td>2951970</td>\n",
       "      <td>30164</td>\n",
       "      <td>2921806</td>\n",
       "      <td>0.010218</td>\n",
       "    </tr>\n",
       "    <tr>\n",
       "      <th>3</th>\n",
       "      <td>Low-Med</td>\n",
       "      <td>2951971</td>\n",
       "      <td>24155</td>\n",
       "      <td>2927816</td>\n",
       "      <td>0.008183</td>\n",
       "    </tr>\n",
       "    <tr>\n",
       "      <th>4</th>\n",
       "      <td>Low</td>\n",
       "      <td>2951971</td>\n",
       "      <td>12742</td>\n",
       "      <td>2939229</td>\n",
       "      <td>0.004316</td>\n",
       "    </tr>\n",
       "  </tbody>\n",
       "</table>\n",
       "</div>"
      ],
      "text/plain": [
       "  LIKELIHOODTOBUYPASSLABEL  RECORDS  FY22_PASSHOLDER  NOPASSPURCHASE  \\\n",
       "0                     High  2951970          1108113         1843857   \n",
       "1                 Med-High  2951970            69263         2882707   \n",
       "2                   Medium  2951970            30164         2921806   \n",
       "3                  Low-Med  2951971            24155         2927816   \n",
       "4                      Low  2951971            12742         2939229   \n",
       "\n",
       "   FY22CONVERSIONRATE  \n",
       "0            0.375381  \n",
       "1            0.023463  \n",
       "2            0.010218  \n",
       "3            0.008183  \n",
       "4            0.004316  "
      ]
     },
     "execution_count": null,
     "metadata": {},
     "output_type": "execute_result"
    }
   ],
   "source": [
    "current_season_results"
   ]
  },
  {
   "cell_type": "markdown",
   "metadata": {},
   "source": [
    "## Model Specifics"
   ]
  },
  {
   "cell_type": "markdown",
   "metadata": {},
   "source": [
    "Description of LTBP Production Model:\n",
    "\n",
    "<!-- - {{models_dict[experiment_name]['description']}} -->"
   ]
  },
  {
   "cell_type": "code",
   "execution_count": null,
   "metadata": {},
   "outputs": [
    {
     "data": {
      "text/plain": [
       "'Standard baseline xgb_hyperopt approach status quo of LTBP of the past'"
      ]
     },
     "execution_count": null,
     "metadata": {},
     "output_type": "execute_result"
    }
   ],
   "source": [
    "models_dict[experiment_name]['description']"
   ]
  },
  {
   "cell_type": "markdown",
   "metadata": {},
   "source": [
    "Model Name in side of LTBP Repo:\n",
    "\n",
    "<!-- - {{models_dict[experiment_name]['model_trainer']}} -->"
   ]
  },
  {
   "cell_type": "code",
   "execution_count": null,
   "metadata": {},
   "outputs": [
    {
     "data": {
      "text/plain": [
       "'train_xgb'"
      ]
     },
     "execution_count": null,
     "metadata": {},
     "output_type": "execute_result"
    }
   ],
   "source": [
    "models_dict[experiment_name]['model_trainer']"
   ]
  }
 ],
 "metadata": {
  "kernelspec": {
   "display_name": "Python 3 (ipykernel)",
   "language": "python",
   "name": "python3"
  }
 },
 "nbformat": 4,
 "nbformat_minor": 4
}
